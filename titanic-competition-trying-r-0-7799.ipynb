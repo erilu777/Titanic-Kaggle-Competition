{
 "cells": [
  {
   "cell_type": "code",
   "execution_count": 1,
   "id": "fb022ec1",
   "metadata": {
    "_execution_state": "idle",
    "_uuid": "051d70d956493feee0c6d64651c6a088724dca2a",
    "execution": {
     "iopub.execute_input": "2025-02-01T12:09:20.882426Z",
     "iopub.status.busy": "2025-02-01T12:09:20.880070Z",
     "iopub.status.idle": "2025-02-01T12:09:21.035873Z",
     "shell.execute_reply": "2025-02-01T12:09:21.034013Z"
    },
    "papermill": {
     "duration": 0.168401,
     "end_time": "2025-02-01T12:09:21.038884",
     "exception": false,
     "start_time": "2025-02-01T12:09:20.870483",
     "status": "completed"
    },
    "tags": []
   },
   "outputs": [],
   "source": [
    "# A new attempt at the Titanic Kaggle comptetition,\n",
    "# focused on learning and understanding code and ML concepts"
   ]
  },
  {
   "cell_type": "code",
   "execution_count": 2,
   "id": "83ffc68a",
   "metadata": {
    "execution": {
     "iopub.execute_input": "2025-02-01T12:09:21.083692Z",
     "iopub.status.busy": "2025-02-01T12:09:21.052722Z",
     "iopub.status.idle": "2025-02-01T12:09:22.239188Z",
     "shell.execute_reply": "2025-02-01T12:09:22.229871Z"
    },
    "papermill": {
     "duration": 1.196608,
     "end_time": "2025-02-01T12:09:22.241711",
     "exception": false,
     "start_time": "2025-02-01T12:09:21.045103",
     "status": "completed"
    },
    "tags": []
   },
   "outputs": [
    {
     "name": "stderr",
     "output_type": "stream",
     "text": [
      "── \u001b[1mAttaching core tidyverse packages\u001b[22m ──────────────────────── tidyverse 2.0.0 ──\n",
      "\u001b[32m✔\u001b[39m \u001b[34mdplyr    \u001b[39m 1.1.4     \u001b[32m✔\u001b[39m \u001b[34mreadr    \u001b[39m 2.1.5\n",
      "\u001b[32m✔\u001b[39m \u001b[34mforcats  \u001b[39m 1.0.0     \u001b[32m✔\u001b[39m \u001b[34mstringr  \u001b[39m 1.5.1\n",
      "\u001b[32m✔\u001b[39m \u001b[34mggplot2  \u001b[39m 3.5.1     \u001b[32m✔\u001b[39m \u001b[34mtibble   \u001b[39m 3.2.1\n",
      "\u001b[32m✔\u001b[39m \u001b[34mlubridate\u001b[39m 1.9.3     \u001b[32m✔\u001b[39m \u001b[34mtidyr    \u001b[39m 1.3.1\n",
      "\u001b[32m✔\u001b[39m \u001b[34mpurrr    \u001b[39m 1.0.2     \n"
     ]
    },
    {
     "name": "stderr",
     "output_type": "stream",
     "text": [
      "── \u001b[1mConflicts\u001b[22m ────────────────────────────────────────── tidyverse_conflicts() ──\n",
      "\u001b[31m✖\u001b[39m \u001b[34mdplyr\u001b[39m::\u001b[32mfilter()\u001b[39m masks \u001b[34mstats\u001b[39m::filter()\n",
      "\u001b[31m✖\u001b[39m \u001b[34mdplyr\u001b[39m::\u001b[32mlag()\u001b[39m    masks \u001b[34mstats\u001b[39m::lag()\n",
      "\u001b[36mℹ\u001b[39m Use the conflicted package (\u001b[3m\u001b[34m<http://conflicted.r-lib.org/>\u001b[39m\u001b[23m) to force all conflicts to become errors\n"
     ]
    },
    {
     "name": "stderr",
     "output_type": "stream",
     "text": [
      "\n",
      "Attaching package: ‘scales’\n",
      "\n",
      "\n"
     ]
    },
    {
     "name": "stderr",
     "output_type": "stream",
     "text": [
      "The following object is masked from ‘package:purrr’:\n",
      "\n",
      "    discard\n",
      "\n",
      "\n"
     ]
    },
    {
     "name": "stderr",
     "output_type": "stream",
     "text": [
      "The following object is masked from ‘package:readr’:\n",
      "\n",
      "    col_factor\n",
      "\n",
      "\n"
     ]
    }
   ],
   "source": [
    "# Loading required libraries\n",
    "library(tidyverse)\n",
    "library(scales)"
   ]
  },
  {
   "cell_type": "code",
   "execution_count": 3,
   "id": "e512b40a",
   "metadata": {
    "execution": {
     "iopub.execute_input": "2025-02-01T12:09:22.258253Z",
     "iopub.status.busy": "2025-02-01T12:09:22.256312Z",
     "iopub.status.idle": "2025-02-01T12:09:22.289295Z",
     "shell.execute_reply": "2025-02-01T12:09:22.287445Z"
    },
    "papermill": {
     "duration": 0.043739,
     "end_time": "2025-02-01T12:09:22.291718",
     "exception": false,
     "start_time": "2025-02-01T12:09:22.247979",
     "status": "completed"
    },
    "tags": []
   },
   "outputs": [],
   "source": [
    "# Reading the data\n",
    "train <- read.csv(\"/kaggle/input/titanic/train.csv\", stringsAsFactors = FALSE)"
   ]
  },
  {
   "cell_type": "code",
   "execution_count": 4,
   "id": "297288fa",
   "metadata": {
    "execution": {
     "iopub.execute_input": "2025-02-01T12:09:22.307636Z",
     "iopub.status.busy": "2025-02-01T12:09:22.306165Z",
     "iopub.status.idle": "2025-02-01T12:09:22.332345Z",
     "shell.execute_reply": "2025-02-01T12:09:22.330123Z"
    },
    "papermill": {
     "duration": 0.036452,
     "end_time": "2025-02-01T12:09:22.334564",
     "exception": false,
     "start_time": "2025-02-01T12:09:22.298112",
     "status": "completed"
    },
    "tags": []
   },
   "outputs": [
    {
     "name": "stdout",
     "output_type": "stream",
     "text": [
      "'data.frame':\t891 obs. of  12 variables:\n",
      " $ PassengerId: int  1 2 3 4 5 6 7 8 9 10 ...\n",
      " $ Survived   : int  0 1 1 1 0 0 0 0 1 1 ...\n",
      " $ Pclass     : int  3 1 3 1 3 3 1 3 3 2 ...\n",
      " $ Name       : chr  \"Braund, Mr. Owen Harris\" \"Cumings, Mrs. John Bradley (Florence Briggs Thayer)\" \"Heikkinen, Miss. Laina\" \"Futrelle, Mrs. Jacques Heath (Lily May Peel)\" ...\n",
      " $ Sex        : chr  \"male\" \"female\" \"female\" \"female\" ...\n",
      " $ Age        : num  22 38 26 35 35 NA 54 2 27 14 ...\n",
      " $ SibSp      : int  1 1 0 1 0 0 0 3 0 1 ...\n",
      " $ Parch      : int  0 0 0 0 0 0 0 1 2 0 ...\n",
      " $ Ticket     : chr  \"A/5 21171\" \"PC 17599\" \"STON/O2. 3101282\" \"113803\" ...\n",
      " $ Fare       : num  7.25 71.28 7.92 53.1 8.05 ...\n",
      " $ Cabin      : chr  \"\" \"C85\" \"\" \"C123\" ...\n",
      " $ Embarked   : chr  \"S\" \"C\" \"S\" \"S\" ...\n"
     ]
    }
   ],
   "source": [
    "# Basic structure of the data\n",
    "str(train)"
   ]
  },
  {
   "cell_type": "code",
   "execution_count": 5,
   "id": "a6213af2",
   "metadata": {
    "execution": {
     "iopub.execute_input": "2025-02-01T12:09:22.350794Z",
     "iopub.status.busy": "2025-02-01T12:09:22.349184Z",
     "iopub.status.idle": "2025-02-01T12:09:22.371338Z",
     "shell.execute_reply": "2025-02-01T12:09:22.369660Z"
    },
    "papermill": {
     "duration": 0.032868,
     "end_time": "2025-02-01T12:09:22.373642",
     "exception": false,
     "start_time": "2025-02-01T12:09:22.340774",
     "status": "completed"
    },
    "tags": []
   },
   "outputs": [
    {
     "data": {
      "text/plain": [
       "  PassengerId       Survived          Pclass          Name          \n",
       " Min.   :  1.0   Min.   :0.0000   Min.   :1.000   Length:891        \n",
       " 1st Qu.:223.5   1st Qu.:0.0000   1st Qu.:2.000   Class :character  \n",
       " Median :446.0   Median :0.0000   Median :3.000   Mode  :character  \n",
       " Mean   :446.0   Mean   :0.3838   Mean   :2.309                     \n",
       " 3rd Qu.:668.5   3rd Qu.:1.0000   3rd Qu.:3.000                     \n",
       " Max.   :891.0   Max.   :1.0000   Max.   :3.000                     \n",
       "                                                                    \n",
       "     Sex                 Age            SibSp           Parch       \n",
       " Length:891         Min.   : 0.42   Min.   :0.000   Min.   :0.0000  \n",
       " Class :character   1st Qu.:20.12   1st Qu.:0.000   1st Qu.:0.0000  \n",
       " Mode  :character   Median :28.00   Median :0.000   Median :0.0000  \n",
       "                    Mean   :29.70   Mean   :0.523   Mean   :0.3816  \n",
       "                    3rd Qu.:38.00   3rd Qu.:1.000   3rd Qu.:0.0000  \n",
       "                    Max.   :80.00   Max.   :8.000   Max.   :6.0000  \n",
       "                    NA's   :177                                     \n",
       "    Ticket               Fare           Cabin             Embarked        \n",
       " Length:891         Min.   :  0.00   Length:891         Length:891        \n",
       " Class :character   1st Qu.:  7.91   Class :character   Class :character  \n",
       " Mode  :character   Median : 14.45   Mode  :character   Mode  :character  \n",
       "                    Mean   : 32.20                                        \n",
       "                    3rd Qu.: 31.00                                        \n",
       "                    Max.   :512.33                                        \n",
       "                                                                          "
      ]
     },
     "metadata": {},
     "output_type": "display_data"
    }
   ],
   "source": [
    "summary(train)"
   ]
  },
  {
   "cell_type": "code",
   "execution_count": 6,
   "id": "9b694d5a",
   "metadata": {
    "execution": {
     "iopub.execute_input": "2025-02-01T12:09:22.391027Z",
     "iopub.status.busy": "2025-02-01T12:09:22.389481Z",
     "iopub.status.idle": "2025-02-01T12:09:22.404483Z",
     "shell.execute_reply": "2025-02-01T12:09:22.402832Z"
    },
    "papermill": {
     "duration": 0.02662,
     "end_time": "2025-02-01T12:09:22.406818",
     "exception": false,
     "start_time": "2025-02-01T12:09:22.380198",
     "status": "completed"
    },
    "tags": []
   },
   "outputs": [],
   "source": [
    "# Visualizing gender vs. survival rate\n",
    "# Calculate counts first\n",
    "gender_counts <- table(train$Sex)"
   ]
  },
  {
   "cell_type": "code",
   "execution_count": 7,
   "id": "01513876",
   "metadata": {
    "execution": {
     "iopub.execute_input": "2025-02-01T12:09:22.423272Z",
     "iopub.status.busy": "2025-02-01T12:09:22.421693Z",
     "iopub.status.idle": "2025-02-01T12:09:23.024708Z",
     "shell.execute_reply": "2025-02-01T12:09:23.021941Z"
    },
    "papermill": {
     "duration": 0.614446,
     "end_time": "2025-02-01T12:09:23.027697",
     "exception": false,
     "start_time": "2025-02-01T12:09:22.413251",
     "status": "completed"
    },
    "tags": []
   },
   "outputs": [
    {
     "data": {
      "image/png": "[encoded data removed]"
     },
     "metadata": {
      "image/png": {
       "height": 420,
       "width": 420
      }
     },
     "output_type": "display_data"
    }
   ],
   "source": [
    "# Creating a plot of gender vs. survival rate\n",
    "\n",
    "ggplot(train, aes(x = Sex, fill = factor(Survived))) +\n",
    "    geom_bar(position = \"fill\") +\n",
    "    scale_fill_manual(\n",
    "        values = c(\"#E41A1C\", \"#4DAF4A\"),\n",
    "        labels = c(\"Did not survive\", \"Survived\"),\n",
    "        name = \"Survival\") +\n",
    "    scale_x_discrete(labels = function(x) paste0(x, \"\\n(n=\", gender_counts[x], \")\")) +\n",
    "    labs(\n",
    "        title = \"Survival Rates by Gender\",\n",
    "        x = \"Gender\",\n",
    "        y = \"Proportion\"\n",
    "    ) +\n",
    "    theme_minimal()"
   ]
  },
  {
   "cell_type": "code",
   "execution_count": 8,
   "id": "58eda417",
   "metadata": {
    "execution": {
     "iopub.execute_input": "2025-02-01T12:09:23.046883Z",
     "iopub.status.busy": "2025-02-01T12:09:23.045363Z",
     "iopub.status.idle": "2025-02-01T12:09:23.531837Z",
     "shell.execute_reply": "2025-02-01T12:09:23.529159Z"
    },
    "papermill": {
     "duration": 0.499344,
     "end_time": "2025-02-01T12:09:23.534807",
     "exception": false,
     "start_time": "2025-02-01T12:09:23.035463",
     "status": "completed"
    },
    "tags": []
   },
   "outputs": [
    {
     "data": {
      "image/png": "[encoded data removed]"
     },
     "metadata": {
      "image/png": {
       "height": 420,
       "width": 420
      }
     },
     "output_type": "display_data"
    }
   ],
   "source": [
    "# Now, let's look at survival rate by passenger class\n",
    "ggplot(train, aes(x = factor(Pclass), fill = factor(Survived))) +\n",
    "    geom_bar(position = \"fill\") +\n",
    "    scale_fill_manual(\n",
    "        values = c(\"#E41A1C\", \"#4DAF4A\"),\n",
    "        labels = c(\"Did not survive\", \"Survived\"),\n",
    "        name = \"Survival\") +\n",
    "    labs(\n",
    "        title = \"Survival Rates by Passenger Class\",\n",
    "        x = \"Passenger Class\",\n",
    "        y = \"Proportion\"\n",
    "    ) +\n",
    "    theme_minimal()\n"
   ]
  },
  {
   "cell_type": "code",
   "execution_count": 9,
   "id": "235dce33",
   "metadata": {
    "execution": {
     "iopub.execute_input": "2025-02-01T12:09:23.553860Z",
     "iopub.status.busy": "2025-02-01T12:09:23.552305Z",
     "iopub.status.idle": "2025-02-01T12:09:23.564818Z",
     "shell.execute_reply": "2025-02-01T12:09:23.563248Z"
    },
    "papermill": {
     "duration": 0.024728,
     "end_time": "2025-02-01T12:09:23.567558",
     "exception": false,
     "start_time": "2025-02-01T12:09:23.542830",
     "status": "completed"
    },
    "tags": []
   },
   "outputs": [],
   "source": [
    "# You can clearly see that lower passenger class \n",
    "# led to lower survival rate"
   ]
  },
  {
   "cell_type": "code",
   "execution_count": 10,
   "id": "305c2b84",
   "metadata": {
    "execution": {
     "iopub.execute_input": "2025-02-01T12:09:23.586458Z",
     "iopub.status.busy": "2025-02-01T12:09:23.584911Z",
     "iopub.status.idle": "2025-02-01T12:09:23.603544Z",
     "shell.execute_reply": "2025-02-01T12:09:23.601912Z"
    },
    "papermill": {
     "duration": 0.031266,
     "end_time": "2025-02-01T12:09:23.606478",
     "exception": false,
     "start_time": "2025-02-01T12:09:23.575212",
     "status": "completed"
    },
    "tags": []
   },
   "outputs": [],
   "source": [
    "# Break age down into age groups to visualize survival rates by age group\n",
    "# Add AgeGroup column\n",
    "train$AgeGroup <- cut(train$Age,\n",
    "                     breaks = c(0, 12, 19, 30, 50, Inf),\n",
    "                     labels = c(\"Child \\n(0 - 12)\", \"Teen \\n(13 - 19)\", \"Young Adult \\n(20 - 30)\", \"Adult \\n(31 - 50)\", \"Senior \\n(51 - inf)\"),\n",
    "                     include_lowest = TRUE)\n",
    "train$AgeGroup <- factor(train$AgeGroup, levels = c(levels(train$AgeGroup), \"Unknown\"))\n",
    "train$AgeGroup[is.na(train$AgeGroup)] <- \"Unknown\""
   ]
  },
  {
   "cell_type": "code",
   "execution_count": 11,
   "id": "fd6a53fb",
   "metadata": {
    "execution": {
     "iopub.execute_input": "2025-02-01T12:09:23.625481Z",
     "iopub.status.busy": "2025-02-01T12:09:23.623933Z",
     "iopub.status.idle": "2025-02-01T12:09:23.639584Z",
     "shell.execute_reply": "2025-02-01T12:09:23.637917Z"
    },
    "papermill": {
     "duration": 0.028471,
     "end_time": "2025-02-01T12:09:23.642560",
     "exception": false,
     "start_time": "2025-02-01T12:09:23.614089",
     "status": "completed"
    },
    "tags": []
   },
   "outputs": [],
   "source": [
    "# Calculate counts first\n",
    "age_counts <- table(train$AgeGroup)"
   ]
  },
  {
   "cell_type": "code",
   "execution_count": 12,
   "id": "f2230aed",
   "metadata": {
    "execution": {
     "iopub.execute_input": "2025-02-01T12:09:23.661108Z",
     "iopub.status.busy": "2025-02-01T12:09:23.659565Z",
     "iopub.status.idle": "2025-02-01T12:09:23.955378Z",
     "shell.execute_reply": "2025-02-01T12:09:23.953437Z"
    },
    "papermill": {
     "duration": 0.307429,
     "end_time": "2025-02-01T12:09:23.957607",
     "exception": false,
     "start_time": "2025-02-01T12:09:23.650178",
     "status": "completed"
    },
    "tags": []
   },
   "outputs": [
    {
     "data": {
      "image/png": "[encoded data removed]"
     },
     "metadata": {
      "image/png": {
       "height": 420,
       "width": 420
      }
     },
     "output_type": "display_data"
    }
   ],
   "source": [
    "# Visualize  survival rates by age group\n",
    "ggplot(train, aes(x = AgeGroup, fill = factor(Survived))) +\n",
    "    geom_bar(position = \"fill\") +\n",
    "    scale_fill_manual(\n",
    "        values = c(\"#E41A1C\", \"#4DAF4A\"),\n",
    "        labels = c(\"Did not survive\", \"Survived\"),\n",
    "        name = \"Survived\"\n",
    "    ) +\n",
    "    scale_x_discrete(labels = function(x) paste0(x, \"\\n(n=\", age_counts[x], \")\")) +\n",
    "    labs(\n",
    "        title = \"Survival Rate by Age Group\",\n",
    "        x = \"Age Group\",\n",
    "        y = \"Proportion\"\n",
    "    ) +\n",
    "    theme_minimal()"
   ]
  },
  {
   "cell_type": "code",
   "execution_count": 13,
   "id": "d34ee9ba",
   "metadata": {
    "execution": {
     "iopub.execute_input": "2025-02-01T12:09:23.978493Z",
     "iopub.status.busy": "2025-02-01T12:09:23.976937Z",
     "iopub.status.idle": "2025-02-01T12:09:23.995565Z",
     "shell.execute_reply": "2025-02-01T12:09:23.993521Z"
    },
    "papermill": {
     "duration": 0.031209,
     "end_time": "2025-02-01T12:09:23.997675",
     "exception": false,
     "start_time": "2025-02-01T12:09:23.966466",
     "status": "completed"
    },
    "tags": []
   },
   "outputs": [
    {
     "name": "stdout",
     "output_type": "stream",
     "text": [
      "   \n",
      "    female male\n",
      "  1     94  122\n",
      "  2     76  108\n",
      "  3    144  347\n"
     ]
    }
   ],
   "source": [
    "# Calculate counts for understanding before plotting\n",
    "class_gender_counts <- table(train$Pclass, train$Sex)\n",
    "\n",
    "print(class_gender_counts)"
   ]
  },
  {
   "cell_type": "code",
   "execution_count": 14,
   "id": "bfc78d0e",
   "metadata": {
    "execution": {
     "iopub.execute_input": "2025-02-01T12:09:24.019817Z",
     "iopub.status.busy": "2025-02-01T12:09:24.017875Z",
     "iopub.status.idle": "2025-02-01T12:09:24.396288Z",
     "shell.execute_reply": "2025-02-01T12:09:24.394439Z"
    },
    "papermill": {
     "duration": 0.391951,
     "end_time": "2025-02-01T12:09:24.398626",
     "exception": false,
     "start_time": "2025-02-01T12:09:24.006675",
     "status": "completed"
    },
    "tags": []
   },
   "outputs": [
    {
     "data": {
      "image/png": "[encoded data removed]"
     },
     "metadata": {
      "image/png": {
       "height": 420,
       "width": 420
      }
     },
     "output_type": "display_data"
    }
   ],
   "source": [
    "# Visualize interaction between Sex and Pclass\n",
    "# Plot with separate labels for each facet\n",
    "ggplot(train, aes(x = factor(Pclass), fill = factor(Survived))) +\n",
    "    geom_bar(position = \"fill\") +\n",
    "    facet_wrap(~Sex) + \n",
    "    scale_fill_manual(\n",
    "        values = c(\"#E41A1C\", \"#4DAF4A\"),\n",
    "        labels = c(\"Did not survive\", \"Survived\"),\n",
    "        name = \"Survival\"\n",
    "    ) +\n",
    "    labs(\n",
    "        title = \"Survival Rate by Class and Gender\",\n",
    "        x = \"Passenger Class\",\n",
    "        y = \"Proportion\"\n",
    "    ) +\n",
    "    theme_minimal()"
   ]
  },
  {
   "cell_type": "code",
   "execution_count": 15,
   "id": "8e2ac56d",
   "metadata": {
    "execution": {
     "iopub.execute_input": "2025-02-01T12:09:24.420636Z",
     "iopub.status.busy": "2025-02-01T12:09:24.419088Z",
     "iopub.status.idle": "2025-02-01T12:09:24.431294Z",
     "shell.execute_reply": "2025-02-01T12:09:24.429558Z"
    },
    "papermill": {
     "duration": 0.02561,
     "end_time": "2025-02-01T12:09:24.433624",
     "exception": false,
     "start_time": "2025-02-01T12:09:24.408014",
     "status": "completed"
    },
    "tags": []
   },
   "outputs": [],
   "source": [
    "# Modelling"
   ]
  },
  {
   "cell_type": "code",
   "execution_count": 16,
   "id": "b202a9a8",
   "metadata": {
    "execution": {
     "iopub.execute_input": "2025-02-01T12:09:24.455949Z",
     "iopub.status.busy": "2025-02-01T12:09:24.454328Z",
     "iopub.status.idle": "2025-02-01T12:09:24.498678Z",
     "shell.execute_reply": "2025-02-01T12:09:24.497000Z"
    },
    "papermill": {
     "duration": 0.05795,
     "end_time": "2025-02-01T12:09:24.500860",
     "exception": false,
     "start_time": "2025-02-01T12:09:24.442910",
     "status": "completed"
    },
    "tags": []
   },
   "outputs": [
    {
     "data": {
      "text/html": [
       "<table class=\"dataframe\">\n",
       "<caption>A data.frame: 6 × 4</caption>\n",
       "<thead>\n",
       "\t<tr><th></th><th scope=col>Survived</th><th scope=col>Sex</th><th scope=col>Pclass</th><th scope=col>AgeGroup</th></tr>\n",
       "\t<tr><th></th><th scope=col>&lt;fct&gt;</th><th scope=col>&lt;fct&gt;</th><th scope=col>&lt;fct&gt;</th><th scope=col>&lt;fct&gt;</th></tr>\n",
       "</thead>\n",
       "<tbody>\n",
       "\t<tr><th scope=row>1</th><td>0</td><td>male  </td><td>3</td><td>Young Adult \n",
       "(20 - 30)</td></tr>\n",
       "\t<tr><th scope=row>2</th><td>1</td><td>female</td><td>1</td><td>Adult \n",
       "(31 - 50)      </td></tr>\n",
       "\t<tr><th scope=row>3</th><td>1</td><td>female</td><td>3</td><td>Young Adult \n",
       "(20 - 30)</td></tr>\n",
       "\t<tr><th scope=row>4</th><td>1</td><td>female</td><td>1</td><td>Adult \n",
       "(31 - 50)      </td></tr>\n",
       "\t<tr><th scope=row>5</th><td>0</td><td>male  </td><td>3</td><td>Adult \n",
       "(31 - 50)      </td></tr>\n",
       "\t<tr><th scope=row>6</th><td>0</td><td>male  </td><td>3</td><td>Unknown                </td></tr>\n",
       "</tbody>\n",
       "</table>\n"
      ],
      "text/latex": [
       "A data.frame: 6 × 4\n",
       "\\begin{tabular}{r|llll}\n",
       "  & Survived & Sex & Pclass & AgeGroup\\\\\n",
       "  & <fct> & <fct> & <fct> & <fct>\\\\\n",
       "\\hline\n",
       "\t1 & 0 & male   & 3 & Young Adult \n",
       "(20 - 30)\\\\\n",
       "\t2 & 1 & female & 1 & Adult \n",
       "(31 - 50)      \\\\\n",
       "\t3 & 1 & female & 3 & Young Adult \n",
       "(20 - 30)\\\\\n",
       "\t4 & 1 & female & 1 & Adult \n",
       "(31 - 50)      \\\\\n",
       "\t5 & 0 & male   & 3 & Adult \n",
       "(31 - 50)      \\\\\n",
       "\t6 & 0 & male   & 3 & Unknown                \\\\\n",
       "\\end{tabular}\n"
      ],
      "text/markdown": [
       "\n",
       "A data.frame: 6 × 4\n",
       "\n",
       "| <!--/--> | Survived &lt;fct&gt; | Sex &lt;fct&gt; | Pclass &lt;fct&gt; | AgeGroup &lt;fct&gt; |\n",
       "|---|---|---|---|---|\n",
       "| 1 | 0 | male   | 3 | Young Adult \n",
       "(20 - 30) |\n",
       "| 2 | 1 | female | 1 | Adult \n",
       "(31 - 50)       |\n",
       "| 3 | 1 | female | 3 | Young Adult \n",
       "(20 - 30) |\n",
       "| 4 | 1 | female | 1 | Adult \n",
       "(31 - 50)       |\n",
       "| 5 | 0 | male   | 3 | Adult \n",
       "(31 - 50)       |\n",
       "| 6 | 0 | male   | 3 | Unknown                 |\n",
       "\n"
      ],
      "text/plain": [
       "  Survived Sex    Pclass AgeGroup               \n",
       "1 0        male   3      Young Adult \\n(20 - 30)\n",
       "2 1        female 1      Adult \\n(31 - 50)      \n",
       "3 1        female 3      Young Adult \\n(20 - 30)\n",
       "4 1        female 1      Adult \\n(31 - 50)      \n",
       "5 0        male   3      Adult \\n(31 - 50)      \n",
       "6 0        male   3      Unknown                "
      ]
     },
     "metadata": {},
     "output_type": "display_data"
    }
   ],
   "source": [
    "# Prepare data for modeling, which uses Sex, Pclass and AgeGroup\n",
    "model_data <- train %>%\n",
    "    select(Survived, Sex, Pclass, AgeGroup) %>%\n",
    "    # Convert variables to factors\n",
    "    mutate(\n",
    "        Survived = factor(Survived),\n",
    "        Sex = factor(Sex),\n",
    "        Pclass = factor(Pclass),\n",
    "        AgeGroup = factor(AgeGroup)\n",
    "    ) \n",
    "\n",
    "head(model_data)"
   ]
  },
  {
   "cell_type": "code",
   "execution_count": 17,
   "id": "154c9cf5",
   "metadata": {
    "execution": {
     "iopub.execute_input": "2025-02-01T12:09:24.522845Z",
     "iopub.status.busy": "2025-02-01T12:09:24.521203Z",
     "iopub.status.idle": "2025-02-01T12:09:24.532955Z",
     "shell.execute_reply": "2025-02-01T12:09:24.531254Z"
    },
    "papermill": {
     "duration": 0.025016,
     "end_time": "2025-02-01T12:09:24.535184",
     "exception": false,
     "start_time": "2025-02-01T12:09:24.510168",
     "status": "completed"
    },
    "tags": []
   },
   "outputs": [],
   "source": [
    "# Let's do cross-validation on the training data"
   ]
  },
  {
   "cell_type": "code",
   "execution_count": 18,
   "id": "2b11ef4d",
   "metadata": {
    "execution": {
     "iopub.execute_input": "2025-02-01T12:09:24.557266Z",
     "iopub.status.busy": "2025-02-01T12:09:24.555504Z",
     "iopub.status.idle": "2025-02-01T12:09:26.908789Z",
     "shell.execute_reply": "2025-02-01T12:09:26.907119Z"
    },
    "papermill": {
     "duration": 2.367184,
     "end_time": "2025-02-01T12:09:26.911621",
     "exception": false,
     "start_time": "2025-02-01T12:09:24.544437",
     "status": "completed"
    },
    "tags": []
   },
   "outputs": [
    {
     "name": "stderr",
     "output_type": "stream",
     "text": [
      "Loading required package: lattice\n",
      "\n"
     ]
    },
    {
     "name": "stderr",
     "output_type": "stream",
     "text": [
      "\n",
      "Attaching package: ‘caret’\n",
      "\n",
      "\n"
     ]
    },
    {
     "name": "stderr",
     "output_type": "stream",
     "text": [
      "The following object is masked from ‘package:purrr’:\n",
      "\n",
      "    lift\n",
      "\n",
      "\n"
     ]
    },
    {
     "name": "stderr",
     "output_type": "stream",
     "text": [
      "The following object is masked from ‘package:httr’:\n",
      "\n",
      "    progress\n",
      "\n",
      "\n"
     ]
    }
   ],
   "source": [
    "library(caret)"
   ]
  },
  {
   "cell_type": "code",
   "execution_count": 19,
   "id": "b3200606",
   "metadata": {
    "execution": {
     "iopub.execute_input": "2025-02-01T12:09:26.934510Z",
     "iopub.status.busy": "2025-02-01T12:09:26.932378Z",
     "iopub.status.idle": "2025-02-01T12:09:26.947614Z",
     "shell.execute_reply": "2025-02-01T12:09:26.946080Z"
    },
    "papermill": {
     "duration": 0.02931,
     "end_time": "2025-02-01T12:09:26.950379",
     "exception": false,
     "start_time": "2025-02-01T12:09:26.921069",
     "status": "completed"
    },
    "tags": []
   },
   "outputs": [],
   "source": [
    "# Set up of cross-validation control\n",
    "# We'll use 5-fold cross-validation, which means:\n",
    "# - Split data into 5 parts\n",
    "# - Use 4 parts for training, 1 for testing\n",
    "# - Repeat 5 times, each time using a different part for testing\n",
    "ctrl <- trainControl(method = \"cv\", number = 5)"
   ]
  },
  {
   "cell_type": "code",
   "execution_count": 20,
   "id": "c71b0051",
   "metadata": {
    "execution": {
     "iopub.execute_input": "2025-02-01T12:09:26.972998Z",
     "iopub.status.busy": "2025-02-01T12:09:26.971466Z",
     "iopub.status.idle": "2025-02-01T12:09:26.984335Z",
     "shell.execute_reply": "2025-02-01T12:09:26.982731Z"
    },
    "papermill": {
     "duration": 0.027195,
     "end_time": "2025-02-01T12:09:26.987213",
     "exception": false,
     "start_time": "2025-02-01T12:09:26.960018",
     "status": "completed"
    },
    "tags": []
   },
   "outputs": [],
   "source": [
    "# Setting up 4 different models and trying them out:\n",
    "# - Logistic Regression\n",
    "# - Random Forest\n",
    "# - Decision Tree\n",
    "# - XGBoost"
   ]
  },
  {
   "cell_type": "code",
   "execution_count": 21,
   "id": "47b81aee",
   "metadata": {
    "execution": {
     "iopub.execute_input": "2025-02-01T12:09:27.009701Z",
     "iopub.status.busy": "2025-02-01T12:09:27.008144Z",
     "iopub.status.idle": "2025-02-01T12:09:27.324548Z",
     "shell.execute_reply": "2025-02-01T12:09:27.322821Z"
    },
    "papermill": {
     "duration": 0.330957,
     "end_time": "2025-02-01T12:09:27.327604",
     "exception": false,
     "start_time": "2025-02-01T12:09:26.996647",
     "status": "completed"
    },
    "tags": []
   },
   "outputs": [],
   "source": [
    "# Logistic regression model:\n",
    "log_reg_model <- train(\n",
    "    Survived ~ Sex + Pclass + AgeGroup,\n",
    "    data = model_data,\n",
    "    method = \"glm\",\n",
    "    family = \"binomial\",\n",
    "    trControl = ctrl\n",
    ")"
   ]
  },
  {
   "cell_type": "code",
   "execution_count": 22,
   "id": "6bea0068",
   "metadata": {
    "execution": {
     "iopub.execute_input": "2025-02-01T12:09:27.350034Z",
     "iopub.status.busy": "2025-02-01T12:09:27.348567Z",
     "iopub.status.idle": "2025-02-01T12:09:33.539513Z",
     "shell.execute_reply": "2025-02-01T12:09:33.537818Z"
    },
    "papermill": {
     "duration": 6.205466,
     "end_time": "2025-02-01T12:09:33.542814",
     "exception": false,
     "start_time": "2025-02-01T12:09:27.337348",
     "status": "completed"
    },
    "tags": []
   },
   "outputs": [],
   "source": [
    "# Random Forest model:\n",
    "rf_model <- train(\n",
    "    Survived ~ Sex + Pclass + AgeGroup,\n",
    "    data = model_data,\n",
    "    method = \"rf\",\n",
    "    family = \"binomial\",\n",
    "    trControl = ctrl\n",
    ")"
   ]
  },
  {
   "cell_type": "code",
   "execution_count": 23,
   "id": "7de2b372",
   "metadata": {
    "execution": {
     "iopub.execute_input": "2025-02-01T12:09:33.565323Z",
     "iopub.status.busy": "2025-02-01T12:09:33.563793Z",
     "iopub.status.idle": "2025-02-01T12:09:33.604975Z",
     "shell.execute_reply": "2025-02-01T12:09:33.603289Z"
    },
    "papermill": {
     "duration": 0.055692,
     "end_time": "2025-02-01T12:09:33.608087",
     "exception": false,
     "start_time": "2025-02-01T12:09:33.552395",
     "status": "completed"
    },
    "tags": []
   },
   "outputs": [],
   "source": [
    "# Load rpart library\n",
    "library(tree)"
   ]
  },
  {
   "cell_type": "code",
   "execution_count": 24,
   "id": "248ba7ff",
   "metadata": {
    "execution": {
     "iopub.execute_input": "2025-02-01T12:09:33.630562Z",
     "iopub.status.busy": "2025-02-01T12:09:33.629070Z",
     "iopub.status.idle": "2025-02-01T12:09:39.156749Z",
     "shell.execute_reply": "2025-02-01T12:09:39.154983Z"
    },
    "papermill": {
     "duration": 5.542482,
     "end_time": "2025-02-01T12:09:39.160113",
     "exception": false,
     "start_time": "2025-02-01T12:09:33.617631",
     "status": "completed"
    },
    "tags": []
   },
   "outputs": [],
   "source": [
    "# Decision tree model\n",
    "tree_model <- train(\n",
    "    Survived ~ Sex + Pclass + AgeGroup,\n",
    "    data = model_data,\n",
    "    trControl = ctrl\n",
    ")"
   ]
  },
  {
   "cell_type": "code",
   "execution_count": 25,
   "id": "92327f6d",
   "metadata": {
    "execution": {
     "iopub.execute_input": "2025-02-01T12:09:39.188857Z",
     "iopub.status.busy": "2025-02-01T12:09:39.181666Z",
     "iopub.status.idle": "2025-02-01T12:09:39.199866Z",
     "shell.execute_reply": "2025-02-01T12:09:39.198338Z"
    },
    "papermill": {
     "duration": 0.03276,
     "end_time": "2025-02-01T12:09:39.202639",
     "exception": false,
     "start_time": "2025-02-01T12:09:39.169879",
     "status": "completed"
    },
    "tags": []
   },
   "outputs": [],
   "source": [
    "# XGBoost model\n",
    "# Not even sink removes the warning outputs...\n",
    "# Will therefore not use it here, even though it \n",
    "# performed slightly better than RF"
   ]
  },
  {
   "cell_type": "code",
   "execution_count": 26,
   "id": "59fee6dd",
   "metadata": {
    "execution": {
     "iopub.execute_input": "2025-02-01T12:09:39.226263Z",
     "iopub.status.busy": "2025-02-01T12:09:39.224739Z",
     "iopub.status.idle": "2025-02-01T12:09:39.260155Z",
     "shell.execute_reply": "2025-02-01T12:09:39.257909Z"
    },
    "papermill": {
     "duration": 0.049898,
     "end_time": "2025-02-01T12:09:39.262906",
     "exception": false,
     "start_time": "2025-02-01T12:09:39.213008",
     "status": "completed"
    },
    "tags": []
   },
   "outputs": [
    {
     "data": {
      "text/plain": [
       "\n",
       "Call:\n",
       "summary.resamples(object = results)\n",
       "\n",
       "Models: Logistic, RandomForest, DecisionTree \n",
       "Number of resamples: 5 \n",
       "\n",
       "Accuracy \n",
       "                  Min.   1st Qu.    Median      Mean   3rd Qu.      Max. NA's\n",
       "Logistic     0.7486034 0.7528090 0.8146067 0.7912914 0.8192090 0.8212291    0\n",
       "RandomForest 0.7528090 0.8033708 0.8033708 0.8035717 0.8212291 0.8370787    0\n",
       "DecisionTree 0.7865169 0.7966102 0.8033708 0.8035565 0.8044693 0.8268156    0\n",
       "\n",
       "Kappa \n",
       "                  Min.   1st Qu.    Median      Mean   3rd Qu.      Max. NA's\n",
       "Logistic     0.4582180 0.4591419 0.6017627 0.5518919 0.6136426 0.6266945    0\n",
       "RandomForest 0.4374371 0.5652477 0.5823837 0.5660927 0.6056183 0.6397767    0\n",
       "DecisionTree 0.5368513 0.5401142 0.5599494 0.5650846 0.5652477 0.6232602    0\n"
      ]
     },
     "metadata": {},
     "output_type": "display_data"
    }
   ],
   "source": [
    "results <- resamples(list(\n",
    "    Logistic = log_reg_model,\n",
    "    RandomForest = rf_model,\n",
    "    DecisionTree = tree_model\n",
    "))\n",
    "summary(results)"
   ]
  },
  {
   "cell_type": "code",
   "execution_count": 27,
   "id": "37a98a67",
   "metadata": {
    "execution": {
     "iopub.execute_input": "2025-02-01T12:09:39.285569Z",
     "iopub.status.busy": "2025-02-01T12:09:39.284108Z",
     "iopub.status.idle": "2025-02-01T12:09:39.311247Z",
     "shell.execute_reply": "2025-02-01T12:09:39.309540Z"
    },
    "papermill": {
     "duration": 0.041563,
     "end_time": "2025-02-01T12:09:39.314192",
     "exception": false,
     "start_time": "2025-02-01T12:09:39.272629",
     "status": "completed"
    },
    "tags": []
   },
   "outputs": [],
   "source": [
    "# Load test data\n",
    "test <- read.csv(\"/kaggle/input/titanic/test.csv\", stringsAsFactors = FALSE)"
   ]
  },
  {
   "cell_type": "code",
   "execution_count": 28,
   "id": "6fe32c84",
   "metadata": {
    "execution": {
     "iopub.execute_input": "2025-02-01T12:09:39.337343Z",
     "iopub.status.busy": "2025-02-01T12:09:39.335843Z",
     "iopub.status.idle": "2025-02-01T12:09:39.354116Z",
     "shell.execute_reply": "2025-02-01T12:09:39.352463Z"
    },
    "papermill": {
     "duration": 0.033269,
     "end_time": "2025-02-01T12:09:39.357356",
     "exception": false,
     "start_time": "2025-02-01T12:09:39.324087",
     "status": "completed"
    },
    "tags": []
   },
   "outputs": [],
   "source": [
    "# Prepare test data the same way as training data\n",
    "# Break age down into age groups to visualize survival rates by age group\n",
    "# Add AgeGroup column\n",
    "test$AgeGroup <- cut(test$Age,\n",
    "                     breaks = c(0, 12, 19, 30, 50, Inf),\n",
    "                     labels = c(\"Child \\n(0 - 12)\", \"Teen \\n(13 - 19)\", \"Young Adult \\n(20 - 30)\", \"Adult \\n(31 - 50)\", \"Senior \\n(51 - inf)\"),\n",
    "                     include_lowest = TRUE)\n",
    "test$AgeGroup <- factor(test$AgeGroup, levels = c(levels(test$AgeGroup), \"Unknown\"))\n",
    "test$AgeGroup[is.na(test$AgeGroup)] <- \"Unknown\""
   ]
  },
  {
   "cell_type": "code",
   "execution_count": 29,
   "id": "a9dd15b2",
   "metadata": {
    "execution": {
     "iopub.execute_input": "2025-02-01T12:09:39.380865Z",
     "iopub.status.busy": "2025-02-01T12:09:39.379361Z",
     "iopub.status.idle": "2025-02-01T12:09:39.410151Z",
     "shell.execute_reply": "2025-02-01T12:09:39.407439Z"
    },
    "papermill": {
     "duration": 0.04521,
     "end_time": "2025-02-01T12:09:39.412887",
     "exception": false,
     "start_time": "2025-02-01T12:09:39.367677",
     "status": "completed"
    },
    "tags": []
   },
   "outputs": [
    {
     "data": {
      "text/html": [
       "<table class=\"dataframe\">\n",
       "<caption>A data.frame: 6 × 3</caption>\n",
       "<thead>\n",
       "\t<tr><th></th><th scope=col>Sex</th><th scope=col>Pclass</th><th scope=col>AgeGroup</th></tr>\n",
       "\t<tr><th></th><th scope=col>&lt;fct&gt;</th><th scope=col>&lt;fct&gt;</th><th scope=col>&lt;fct&gt;</th></tr>\n",
       "</thead>\n",
       "<tbody>\n",
       "\t<tr><th scope=row>1</th><td>male  </td><td>3</td><td>Adult \n",
       "(31 - 50)      </td></tr>\n",
       "\t<tr><th scope=row>2</th><td>female</td><td>3</td><td>Adult \n",
       "(31 - 50)      </td></tr>\n",
       "\t<tr><th scope=row>3</th><td>male  </td><td>2</td><td>Senior \n",
       "(51 - inf)    </td></tr>\n",
       "\t<tr><th scope=row>4</th><td>male  </td><td>3</td><td>Young Adult \n",
       "(20 - 30)</td></tr>\n",
       "\t<tr><th scope=row>5</th><td>female</td><td>3</td><td>Young Adult \n",
       "(20 - 30)</td></tr>\n",
       "\t<tr><th scope=row>6</th><td>male  </td><td>3</td><td>Teen \n",
       "(13 - 19)       </td></tr>\n",
       "</tbody>\n",
       "</table>\n"
      ],
      "text/latex": [
       "A data.frame: 6 × 3\n",
       "\\begin{tabular}{r|lll}\n",
       "  & Sex & Pclass & AgeGroup\\\\\n",
       "  & <fct> & <fct> & <fct>\\\\\n",
       "\\hline\n",
       "\t1 & male   & 3 & Adult \n",
       "(31 - 50)      \\\\\n",
       "\t2 & female & 3 & Adult \n",
       "(31 - 50)      \\\\\n",
       "\t3 & male   & 2 & Senior \n",
       "(51 - inf)    \\\\\n",
       "\t4 & male   & 3 & Young Adult \n",
       "(20 - 30)\\\\\n",
       "\t5 & female & 3 & Young Adult \n",
       "(20 - 30)\\\\\n",
       "\t6 & male   & 3 & Teen \n",
       "(13 - 19)       \\\\\n",
       "\\end{tabular}\n"
      ],
      "text/markdown": [
       "\n",
       "A data.frame: 6 × 3\n",
       "\n",
       "| <!--/--> | Sex &lt;fct&gt; | Pclass &lt;fct&gt; | AgeGroup &lt;fct&gt; |\n",
       "|---|---|---|---|\n",
       "| 1 | male   | 3 | Adult \n",
       "(31 - 50)       |\n",
       "| 2 | female | 3 | Adult \n",
       "(31 - 50)       |\n",
       "| 3 | male   | 2 | Senior \n",
       "(51 - inf)     |\n",
       "| 4 | male   | 3 | Young Adult \n",
       "(20 - 30) |\n",
       "| 5 | female | 3 | Young Adult \n",
       "(20 - 30) |\n",
       "| 6 | male   | 3 | Teen \n",
       "(13 - 19)        |\n",
       "\n"
      ],
      "text/plain": [
       "  Sex    Pclass AgeGroup               \n",
       "1 male   3      Adult \\n(31 - 50)      \n",
       "2 female 3      Adult \\n(31 - 50)      \n",
       "3 male   2      Senior \\n(51 - inf)    \n",
       "4 male   3      Young Adult \\n(20 - 30)\n",
       "5 female 3      Young Adult \\n(20 - 30)\n",
       "6 male   3      Teen \\n(13 - 19)       "
      ]
     },
     "metadata": {},
     "output_type": "display_data"
    }
   ],
   "source": [
    "# Use Sex, Pclass and AgeGroup as predictors\n",
    "# Convert to factors just like with training data\n",
    "test_data <- test %>%\n",
    "    select(Sex, Pclass, AgeGroup) %>%\n",
    "    mutate(\n",
    "        Sex = factor(Sex),\n",
    "        Pclass = factor(Pclass),\n",
    "        AgeGroup = factor(AgeGroup)\n",
    "    )\n",
    "\n",
    "head(test_data)"
   ]
  },
  {
   "cell_type": "code",
   "execution_count": 30,
   "id": "e602ccf5",
   "metadata": {
    "execution": {
     "iopub.execute_input": "2025-02-01T12:09:39.436094Z",
     "iopub.status.busy": "2025-02-01T12:09:39.434562Z",
     "iopub.status.idle": "2025-02-01T12:09:39.464680Z",
     "shell.execute_reply": "2025-02-01T12:09:39.463025Z"
    },
    "papermill": {
     "duration": 0.044815,
     "end_time": "2025-02-01T12:09:39.467668",
     "exception": false,
     "start_time": "2025-02-01T12:09:39.422853",
     "status": "completed"
    },
    "tags": []
   },
   "outputs": [],
   "source": [
    "# Make predictions using XGBoost since that's the model\n",
    "# that performed the best in cross-validation\n",
    "predictions <- predict(rf_model, newdata = test_data)"
   ]
  },
  {
   "cell_type": "code",
   "execution_count": 31,
   "id": "c5f00f01",
   "metadata": {
    "execution": {
     "iopub.execute_input": "2025-02-01T12:09:39.491075Z",
     "iopub.status.busy": "2025-02-01T12:09:39.489470Z",
     "iopub.status.idle": "2025-02-01T12:09:39.504065Z",
     "shell.execute_reply": "2025-02-01T12:09:39.502512Z"
    },
    "papermill": {
     "duration": 0.02906,
     "end_time": "2025-02-01T12:09:39.506826",
     "exception": false,
     "start_time": "2025-02-01T12:09:39.477766",
     "status": "completed"
    },
    "tags": []
   },
   "outputs": [],
   "source": [
    "# Create submission dataframe\n",
    "submission <- data.frame(\n",
    "    PassengerId = test$PassengerId,\n",
    "    Survived = predictions\n",
    ")"
   ]
  },
  {
   "cell_type": "code",
   "execution_count": 32,
   "id": "b668c8bf",
   "metadata": {
    "execution": {
     "iopub.execute_input": "2025-02-01T12:09:39.529610Z",
     "iopub.status.busy": "2025-02-01T12:09:39.528171Z",
     "iopub.status.idle": "2025-02-01T12:09:39.543898Z",
     "shell.execute_reply": "2025-02-01T12:09:39.542358Z"
    },
    "papermill": {
     "duration": 0.030201,
     "end_time": "2025-02-01T12:09:39.546824",
     "exception": false,
     "start_time": "2025-02-01T12:09:39.516623",
     "status": "completed"
    },
    "tags": []
   },
   "outputs": [],
   "source": [
    "# Write to CSV file\n",
    "write.csv(submission, \"submission.csv\", row.names = FALSE)"
   ]
  }
 ],
 "metadata": {
  "kaggle": {
   "accelerator": "none",
   "dataSources": [
    {
     "databundleVersionId": 26502,
     "sourceId": 3136,
     "sourceType": "competition"
    }
   ],
   "dockerImageVersionId": 30749,
   "isGpuEnabled": false,
   "isInternetEnabled": false,
   "language": "r",
   "sourceType": "notebook"
  },
  "kernelspec": {
   "display_name": "R",
   "language": "R",
   "name": "ir"
  },
  "language_info": {
   "codemirror_mode": "r",
   "file_extension": ".r",
   "mimetype": "text/x-r-source",
   "name": "R",
   "pygments_lexer": "r",
   "version": "4.4.0"
  },
  "papermill": {
   "default_parameters": {},
   "duration": 21.682175,
   "end_time": "2025-02-01T12:09:39.678889",
   "environment_variables": {},
   "exception": null,
   "input_path": "__notebook__.ipynb",
   "output_path": "__notebook__.ipynb",
   "parameters": {},
   "start_time": "2025-02-01T12:09:17.996714",
   "version": "2.6.0"
  }
 },
 "nbformat": 4,
 "nbformat_minor": 5
}
